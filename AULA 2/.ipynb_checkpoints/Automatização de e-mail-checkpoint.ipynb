{
 "cells": [
  {
   "cell_type": "code",
   "execution_count": 1,
   "id": "ebf1d7ba",
   "metadata": {},
   "outputs": [
    {
     "name": "stdout",
     "output_type": "stream",
     "text": [
      "Collecting yfinance\n",
      "  Downloading yfinance-0.2.18-py2.py3-none-any.whl (60 kB)\n",
      "     ---------------------------------------- 60.3/60.3 kB 1.6 MB/s eta 0:00:00\n",
      "Requirement already satisfied: numpy>=1.16.5 in c:\\users\\lipin\\anaconda3\\lib\\site-packages (from yfinance) (1.23.5)\n",
      "Requirement already satisfied: lxml>=4.9.1 in c:\\users\\lipin\\anaconda3\\lib\\site-packages (from yfinance) (4.9.1)\n",
      "Requirement already satisfied: appdirs>=1.4.4 in c:\\users\\lipin\\anaconda3\\lib\\site-packages (from yfinance) (1.4.4)\n",
      "Collecting html5lib>=1.1\n",
      "  Downloading html5lib-1.1-py2.py3-none-any.whl (112 kB)\n",
      "     -------------------------------------- 112.2/112.2 kB 3.3 MB/s eta 0:00:00\n",
      "Requirement already satisfied: requests>=2.26 in c:\\users\\lipin\\anaconda3\\lib\\site-packages (from yfinance) (2.28.1)\n",
      "Requirement already satisfied: cryptography>=3.3.2 in c:\\users\\lipin\\anaconda3\\lib\\site-packages (from yfinance) (39.0.1)\n",
      "Requirement already satisfied: pandas>=1.3.0 in c:\\users\\lipin\\anaconda3\\lib\\site-packages (from yfinance) (1.5.3)\n",
      "Requirement already satisfied: pytz>=2022.5 in c:\\users\\lipin\\anaconda3\\lib\\site-packages (from yfinance) (2022.7)\n",
      "Collecting multitasking>=0.0.7\n",
      "  Downloading multitasking-0.0.11-py3-none-any.whl (8.5 kB)\n",
      "Collecting frozendict>=2.3.4\n",
      "  Downloading frozendict-2.3.8-cp310-cp310-win_amd64.whl (35 kB)\n",
      "Requirement already satisfied: beautifulsoup4>=4.11.1 in c:\\users\\lipin\\anaconda3\\lib\\site-packages (from yfinance) (4.11.1)\n",
      "Requirement already satisfied: soupsieve>1.2 in c:\\users\\lipin\\anaconda3\\lib\\site-packages (from beautifulsoup4>=4.11.1->yfinance) (2.3.2.post1)\n",
      "Requirement already satisfied: cffi>=1.12 in c:\\users\\lipin\\anaconda3\\lib\\site-packages (from cryptography>=3.3.2->yfinance) (1.15.1)\n",
      "Requirement already satisfied: webencodings in c:\\users\\lipin\\anaconda3\\lib\\site-packages (from html5lib>=1.1->yfinance) (0.5.1)\n",
      "Requirement already satisfied: six>=1.9 in c:\\users\\lipin\\anaconda3\\lib\\site-packages (from html5lib>=1.1->yfinance) (1.16.0)\n",
      "Requirement already satisfied: python-dateutil>=2.8.1 in c:\\users\\lipin\\anaconda3\\lib\\site-packages (from pandas>=1.3.0->yfinance) (2.8.2)\n",
      "Requirement already satisfied: urllib3<1.27,>=1.21.1 in c:\\users\\lipin\\anaconda3\\lib\\site-packages (from requests>=2.26->yfinance) (1.26.14)\n",
      "Requirement already satisfied: certifi>=2017.4.17 in c:\\users\\lipin\\anaconda3\\lib\\site-packages (from requests>=2.26->yfinance) (2022.12.7)\n",
      "Requirement already satisfied: charset-normalizer<3,>=2 in c:\\users\\lipin\\anaconda3\\lib\\site-packages (from requests>=2.26->yfinance) (2.0.4)\n",
      "Requirement already satisfied: idna<4,>=2.5 in c:\\users\\lipin\\anaconda3\\lib\\site-packages (from requests>=2.26->yfinance) (3.4)\n",
      "Requirement already satisfied: pycparser in c:\\users\\lipin\\anaconda3\\lib\\site-packages (from cffi>=1.12->cryptography>=3.3.2->yfinance) (2.21)\n",
      "Installing collected packages: multitasking, html5lib, frozendict, yfinance\n",
      "Successfully installed frozendict-2.3.8 html5lib-1.1 multitasking-0.0.11 yfinance-0.2.18\n"
     ]
    }
   ],
   "source": [
    "!pip install yfinance"
   ]
  },
  {
   "cell_type": "code",
   "execution_count": 3,
   "id": "443fe767",
   "metadata": {},
   "outputs": [
    {
     "name": "stdout",
     "output_type": "stream",
     "text": [
      "Collecting pyautogui\n",
      "  Using cached PyAutoGUI-0.9.54.tar.gz (61 kB)\n",
      "  Installing build dependencies: started\n",
      "  Installing build dependencies: finished with status 'done'\n",
      "  Getting requirements to build wheel: started\n",
      "  Getting requirements to build wheel: finished with status 'done'\n",
      "  Preparing metadata (pyproject.toml): started\n",
      "  Preparing metadata (pyproject.toml): finished with status 'done'\n",
      "Collecting pygetwindow>=0.0.5\n",
      "  Using cached PyGetWindow-0.0.9.tar.gz (9.7 kB)\n",
      "  Preparing metadata (setup.py): started\n",
      "  Preparing metadata (setup.py): finished with status 'done'\n",
      "Collecting pytweening>=1.0.4\n",
      "  Using cached pytweening-1.0.7.tar.gz (168 kB)\n",
      "  Preparing metadata (setup.py): started\n",
      "  Preparing metadata (setup.py): finished with status 'done'\n",
      "Collecting pyscreeze>=0.1.21\n",
      "  Downloading PyScreeze-0.1.29.tar.gz (25 kB)\n",
      "  Installing build dependencies: started\n",
      "  Installing build dependencies: finished with status 'done'\n",
      "  Getting requirements to build wheel: started\n",
      "  Getting requirements to build wheel: finished with status 'done'\n",
      "  Preparing metadata (pyproject.toml): started\n",
      "  Preparing metadata (pyproject.toml): finished with status 'done'\n",
      "Collecting mouseinfo\n",
      "  Using cached MouseInfo-0.1.3.tar.gz (10 kB)\n",
      "  Preparing metadata (setup.py): started\n",
      "  Preparing metadata (setup.py): finished with status 'done'\n",
      "Collecting pymsgbox\n",
      "  Downloading PyMsgBox-1.0.9.tar.gz (18 kB)\n",
      "  Installing build dependencies: started\n",
      "  Installing build dependencies: finished with status 'done'\n",
      "  Getting requirements to build wheel: started\n",
      "  Getting requirements to build wheel: finished with status 'done'\n",
      "  Preparing metadata (pyproject.toml): started\n",
      "  Preparing metadata (pyproject.toml): finished with status 'done'\n",
      "Collecting pyrect\n",
      "  Downloading PyRect-0.2.0.tar.gz (17 kB)\n",
      "  Preparing metadata (setup.py): started\n",
      "  Preparing metadata (setup.py): finished with status 'done'\n",
      "Collecting pyscreenshot\n",
      "  Downloading pyscreenshot-3.1-py3-none-any.whl (28 kB)\n",
      "Requirement already satisfied: Pillow>=9.2.0 in c:\\users\\lipin\\anaconda3\\lib\\site-packages (from pyscreeze>=0.1.21->pyautogui) (9.4.0)\n",
      "Collecting pyperclip\n",
      "  Downloading pyperclip-1.8.2.tar.gz (20 kB)\n",
      "  Preparing metadata (setup.py): started\n",
      "  Preparing metadata (setup.py): finished with status 'done'\n",
      "Collecting entrypoint2\n",
      "  Downloading entrypoint2-1.1-py2.py3-none-any.whl (9.9 kB)\n",
      "Collecting mss\n",
      "  Downloading mss-9.0.1-py3-none-any.whl (22 kB)\n",
      "Collecting EasyProcess\n",
      "  Downloading EasyProcess-1.1-py3-none-any.whl (8.7 kB)\n",
      "Building wheels for collected packages: pyautogui, pygetwindow, pyscreeze, pytweening, mouseinfo, pymsgbox, pyperclip, pyrect\n",
      "  Building wheel for pyautogui (pyproject.toml): started\n",
      "  Building wheel for pyautogui (pyproject.toml): finished with status 'done'\n",
      "  Created wheel for pyautogui: filename=PyAutoGUI-0.9.54-py3-none-any.whl size=37601 sha256=b4fbbd7c8d160d1367038151d379dad9cbbb3f299568c6b14cef47b30a8c8937\n",
      "  Stored in directory: c:\\users\\lipin\\appdata\\local\\pip\\cache\\wheels\\27\\ae\\44\\6ed17dd0eb2109b293dfd896e6b32176a662472e9ec276e911\n",
      "  Building wheel for pygetwindow (setup.py): started\n",
      "  Building wheel for pygetwindow (setup.py): finished with status 'done'\n",
      "  Created wheel for pygetwindow: filename=PyGetWindow-0.0.9-py3-none-any.whl size=11079 sha256=0408f38b7fe06040bd4ac44cfe6295f092eb71c8ab4644f31158b783c2b9f57f\n",
      "  Stored in directory: c:\\users\\lipin\\appdata\\local\\pip\\cache\\wheels\\b4\\ba\\41\\c09cef95c23cdfed6af9df7328306fafbf27df2e77b14d25d7\n",
      "  Building wheel for pyscreeze (pyproject.toml): started\n",
      "  Building wheel for pyscreeze (pyproject.toml): finished with status 'done'\n",
      "  Created wheel for pyscreeze: filename=PyScreeze-0.1.29-py3-none-any.whl size=13485 sha256=6e6f1a696c38d32159b02b9608e93f7772c661fc138d9060a7f6ed3962217660\n",
      "  Stored in directory: c:\\users\\lipin\\appdata\\local\\pip\\cache\\wheels\\b9\\76\\96\\c84d250d637354da1dfd1a3c255b2df6e30c192354d08af1b8\n",
      "  Building wheel for pytweening (setup.py): started\n",
      "  Building wheel for pytweening (setup.py): finished with status 'done'\n",
      "  Created wheel for pytweening: filename=pytweening-1.0.7-py3-none-any.whl size=6214 sha256=afd1d1108364b64ce286face1ebb6334efc037ce593af773e96c8dae655cd566\n",
      "  Stored in directory: c:\\users\\lipin\\appdata\\local\\pip\\cache\\wheels\\c6\\4a\\25\\8e83858414a3d4f8d69cb04f86501b11160106b05fc9c8063b\n",
      "  Building wheel for mouseinfo (setup.py): started\n",
      "  Building wheel for mouseinfo (setup.py): finished with status 'done'\n",
      "  Created wheel for mouseinfo: filename=MouseInfo-0.1.3-py3-none-any.whl size=10906 sha256=420860fab5609ec630111b6a410962def4999bcf1f1a4c712268fd3dd1a189be\n",
      "  Stored in directory: c:\\users\\lipin\\appdata\\local\\pip\\cache\\wheels\\52\\e8\\77\\5f70ba97301c6d825754eea9f12f0ffd00e119fba64a68f4d2\n",
      "  Building wheel for pymsgbox (pyproject.toml): started\n",
      "  Building wheel for pymsgbox (pyproject.toml): finished with status 'done'\n",
      "  Created wheel for pymsgbox: filename=PyMsgBox-1.0.9-py3-none-any.whl size=7417 sha256=b040d747ba3e876bb75490742f6fcaa85d66777ef91988c9d76f8d5f3bf8925c\n",
      "  Stored in directory: c:\\users\\lipin\\appdata\\local\\pip\\cache\\wheels\\97\\61\\22\\1a0de2324b204d675c5bfb28b944101eb48dcf1a1fe87bcce7\n",
      "  Building wheel for pyperclip (setup.py): started\n",
      "  Building wheel for pyperclip (setup.py): finished with status 'done'\n",
      "  Created wheel for pyperclip: filename=pyperclip-1.8.2-py3-none-any.whl size=11137 sha256=7a48e5378dcdf47805aa24770c277fdb86eb1605bdde59214843300de1cd7245\n",
      "  Stored in directory: c:\\users\\lipin\\appdata\\local\\pip\\cache\\wheels\\3c\\77\\81\\aaa2802e9b0553585f2789c6f2756b50a09a01d2848423bb15\n",
      "  Building wheel for pyrect (setup.py): started\n",
      "  Building wheel for pyrect (setup.py): finished with status 'done'\n",
      "  Created wheel for pyrect: filename=PyRect-0.2.0-py2.py3-none-any.whl size=11205 sha256=fb358d4b3279db204d0e8fa26b06df85c3b9e91ce3734174d2ed046123e6f346\n",
      "  Stored in directory: c:\\users\\lipin\\appdata\\local\\pip\\cache\\wheels\\63\\0e\\55\\adb1553ad973caacffc0bd779f74f4749f904da246674a26a1\n",
      "Successfully built pyautogui pygetwindow pyscreeze pytweening mouseinfo pymsgbox pyperclip pyrect\n",
      "Installing collected packages: pytweening, pyrect, pyperclip, pymsgbox, entrypoint2, EasyProcess, pygetwindow, mss, mouseinfo, pyscreenshot, pyscreeze, pyautogui\n",
      "Successfully installed EasyProcess-1.1 entrypoint2-1.1 mouseinfo-0.1.3 mss-9.0.1 pyautogui-0.9.54 pygetwindow-0.0.9 pymsgbox-1.0.9 pyperclip-1.8.2 pyrect-0.2.0 pyscreenshot-3.1 pyscreeze-0.1.29 pytweening-1.0.7\n"
     ]
    }
   ],
   "source": [
    "!pip install pyautogui\n"
   ]
  },
  {
   "cell_type": "code",
   "execution_count": 5,
   "id": "96fcec7e",
   "metadata": {},
   "outputs": [],
   "source": [
    "import yfinance as yf \n",
    "import pyautogui as pya"
   ]
  },
  {
   "cell_type": "markdown",
   "id": "fd19cfb8",
   "metadata": {},
   "source": [
    "# Puxar os dados automaticamente da bolsa"
   ]
  },
  {
   "cell_type": "code",
   "execution_count": 88,
   "id": "a721ea42",
   "metadata": {},
   "outputs": [
    {
     "name": "stdout",
     "output_type": "stream",
     "text": [
      " Digite o código da ação: GOOG\n"
     ]
    },
    {
     "data": {
      "text/plain": [
       "<Axes: xlabel='Date'>"
      ]
     },
     "execution_count": 88,
     "metadata": {},
     "output_type": "execute_result"
    },
    {
     "data": {
      "image/png": "[encoded data removed]",
      "text/plain": [
       "<Figure size 640x480 with 1 Axes>"
      ]
     },
     "metadata": {},
     "output_type": "display_data"
    }
   ],
   "source": [
    "ticker = input (\" Digite o código da ação: \")\n",
    "dados = yf.Ticker(ticker).history(\"1y\")\n",
    "fechamento = dados.Close\n",
    "fechamento.plot()"
   ]
  },
  {
   "cell_type": "markdown",
   "id": "abd746ae",
   "metadata": {},
   "source": [
    "\n",
    "# Analisar automaticamente os dados de cotação máxima, mínima e atual"
   ]
  },
  {
   "cell_type": "code",
   "execution_count": 89,
   "id": "393fb192",
   "metadata": {},
   "outputs": [
    {
     "data": {
      "text/plain": [
       "Date\n",
       "2022-05-31 00:00:00-04:00    114.039001\n",
       "2022-06-01 00:00:00-04:00    114.137001\n",
       "2022-06-02 00:00:00-04:00    117.746002\n",
       "2022-06-03 00:00:00-04:00    114.564003\n",
       "2022-06-06 00:00:00-04:00    117.010498\n",
       "                                ...    \n",
       "2023-05-24 00:00:00-04:00    121.639999\n",
       "2023-05-25 00:00:00-04:00    124.349998\n",
       "2023-05-26 00:00:00-04:00    125.430000\n",
       "2023-05-30 00:00:00-04:00    124.639999\n",
       "2023-05-31 00:00:00-04:00    123.910004\n",
       "Name: Close, Length: 252, dtype: float64"
      ]
     },
     "execution_count": 89,
     "metadata": {},
     "output_type": "execute_result"
    }
   ],
   "source": [
    "fechamento "
   ]
  },
  {
   "cell_type": "code",
   "execution_count": 90,
   "id": "a575bb15",
   "metadata": {},
   "outputs": [
    {
     "name": "stdout",
     "output_type": "stream",
     "text": [
      "125.87\n",
      "83.49\n",
      "123.91\n"
     ]
    }
   ],
   "source": [
    "maxima = round(fechamento.max(), 2)\n",
    "minima = round(fechamento.min(), 2)\n",
    "atual  = round(fechamento[-1], 2)\n",
    "print(maxima)\n",
    "print(minima)\n",
    "print(atual)"
   ]
  },
  {
   "cell_type": "markdown",
   "id": "18f28324",
   "metadata": {},
   "source": [
    "# Enviar automaticamente o e-mail com as análises do último ano da ação \n",
    "- abrir uma nova aba (ctrl + t)\n",
    "- digitar www.gmail.com e dar enter\n",
    "- clicar no botão escrever \n",
    "- digitar o e-mail destinatário e dar (tab)\n",
    "- digitar o assunto do e-mail e dar (tab)\n",
    "- digitar o corpo do e-mail e clicar em enviar \n"
   ]
  },
  {
   "cell_type": "code",
   "execution_count": 60,
   "id": "e7259998",
   "metadata": {},
   "outputs": [],
   "source": [
    "import pyperclip as pyc"
   ]
  },
  {
   "cell_type": "code",
   "execution_count": 93,
   "id": "aaf29855",
   "metadata": {
    "scrolled": true
   },
   "outputs": [
    {
     "name": "stdout",
     "output_type": "stream",
     "text": [
      " E-mail enviado com sucesso!\n"
     ]
    }
   ],
   "source": [
    "#dar uma pausa de 2s\n",
    "\n",
    "pya.PAUSE = 2\n",
    "\n",
    "#abrir nova aba ctrl + t \n",
    "\n",
    "pya.hotkey(\"ctrl\", 't')\n",
    "\n",
    "#digitar gmail e dar enter \n",
    "\n",
    "pyc.copy('gmail.com')\n",
    "pya.hotkey('ctrl', 'v')\n",
    "pya.hotkey('enter')\n",
    "\n",
    "#Clicar no botão escrever \n",
    "\n",
    "pya.click(x=119, y=205)\n",
    "\n",
    "#digitar o e-mail destinatário \n",
    "\n",
    "pyc.copy('lipinho.romani@gmail.com')\n",
    "pya.hotkey('ctrl', 'v')\n",
    "pya.hotkey('tab')\n",
    "\n",
    "#digito o assunto do e-mail \n",
    "\n",
    "pyc.copy('Análises Diárias')\n",
    "pya.hotkey('ctrl', 'v')\n",
    "pya.hotkey('tab')\n",
    "\n",
    "#preencher corpo do e-mail \n",
    "mensagem = f'''Prezado Gestor,\n",
    "Seguem as análises do último ano da ação {ticker}:\n",
    "Cotação máxima: R${maxima}\n",
    "Cotação mínima: R${minima}\n",
    "Cotação atual:  R${atual}\n",
    "Qualquer dúvida fico a disposição!\n",
    "Atte.\n",
    "Felipe \n",
    "'''\n",
    "pyc.copy(mensagem)\n",
    "pya.hotkey('ctrl', 'v')\n",
    "pya.hotkey('ctrl', 'enter')\n",
    "print(' E-mail enviado com sucesso!')"
   ]
  },
  {
   "cell_type": "code",
   "execution_count": null,
   "id": "f247b815",
   "metadata": {},
   "outputs": [],
   "source": []
  },
  {
   "cell_type": "code",
   "execution_count": null,
   "id": "737682dd",
   "metadata": {},
   "outputs": [],
   "source": []
  },
  {
   "cell_type": "code",
   "execution_count": null,
   "id": "e53dec96",
   "metadata": {},
   "outputs": [],
   "source": []
  },
  {
   "cell_type": "code",
   "execution_count": null,
   "id": "d7dcc847",
   "metadata": {},
   "outputs": [],
   "source": []
  }
 ],
 "metadata": {
  "kernelspec": {
   "display_name": "Python 3 (ipykernel)",
   "language": "python",
   "name": "python3"
  },
  "language_info": {
   "codemirror_mode": {
    "name": "ipython",
    "version": 3
   },
   "file_extension": ".py",
   "mimetype": "text/x-python",
   "name": "python",
   "nbconvert_exporter": "python",
   "pygments_lexer": "ipython3",
   "version": "3.10.9"
  }
 },
 "nbformat": 4,
 "nbformat_minor": 5
}
