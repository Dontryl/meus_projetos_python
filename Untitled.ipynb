{
 "cells": [
  {
   "cell_type": "code",
   "execution_count": 1,
   "id": "2ec9a252",
   "metadata": {},
   "outputs": [
    {
     "name": "stdout",
     "output_type": "stream",
     "text": [
      "24\n"
     ]
    }
   ],
   "source": [
    "def foo(n):\n",
    "    if n > 1:\n",
    "        return n * foo(n-1)\n",
    "    return n\n",
    "print(foo(4))"
   ]
  },
  {
   "cell_type": "code",
   "execution_count": 10,
   "id": "7ffbb366",
   "metadata": {},
   "outputs": [
    {
     "name": "stdout",
     "output_type": "stream",
     "text": [
      "<function filtro at 0x000001A68A5CD360>\n"
     ]
    }
   ],
   "source": [
    "minha_lista = [0, 5, 10, 15, 20, 25, 30]\n",
    "def filtro(numero):\n",
    "    if numero > 10:\n",
    "        \n",
    "        return True\n",
    "    return False\n",
    "print(filtro)\n",
    "\n",
    "    "
   ]
  },
  {
   "cell_type": "code",
   "execution_count": 9,
   "id": "f22d739a",
   "metadata": {},
   "outputs": [
    {
     "name": "stdout",
     "output_type": "stream",
     "text": [
      "<filter object at 0x000001A68B895F00>\n"
     ]
    }
   ],
   "source": [
    "print(minhafiltrada)"
   ]
  },
  {
   "cell_type": "code",
   "execution_count": null,
   "id": "fed90e72",
   "metadata": {},
   "outputs": [],
   "source": []
  }
 ],
 "metadata": {
  "kernelspec": {
   "display_name": "Python 3 (ipykernel)",
   "language": "python",
   "name": "python3"
  },
  "language_info": {
   "codemirror_mode": {
    "name": "ipython",
    "version": 3
   },
   "file_extension": ".py",
   "mimetype": "text/x-python",
   "name": "python",
   "nbconvert_exporter": "python",
   "pygments_lexer": "ipython3",
   "version": "3.10.9"
  }
 },
 "nbformat": 4,
 "nbformat_minor": 5
}
