{
 "cells": [
  {
   "cell_type": "markdown",
   "id": "fe9fefc1",
   "metadata": {},
   "source": [
    "# Meu primeiro código \n"
   ]
  },
  {
   "cell_type": "code",
   "execution_count": 2,
   "id": "2b3b9ec7",
   "metadata": {},
   "outputs": [
    {
     "name": "stdout",
     "output_type": "stream",
     "text": [
      "Olá Mundo\n",
      "Coisa Boa\n"
     ]
    }
   ],
   "source": [
    "print(\"Olá Mundo\")\n",
    "print(\"Coisa Boa\")"
   ]
  },
  {
   "cell_type": "markdown",
   "id": "ce4cc14f",
   "metadata": {},
   "source": [
    "# Entrada de Dados \n"
   ]
  },
  {
   "cell_type": "code",
   "execution_count": 1,
   "id": "4dd038b4",
   "metadata": {},
   "outputs": [
    {
     "name": "stdout",
     "output_type": "stream",
     "text": [
      "Digite a descrição do projeto: Desenvolvimento web\n",
      "Digite o total de horas estimadas: 200\n",
      "Digite o valor por hora trabalhada: 110\n",
      "Digite o prazo estimado: 3 meses \n"
     ]
    }
   ],
   "source": [
    "projeto = input(\"Digite a descrição do projeto: \")\n",
    "horas_estimadas = input(\"Digite o total de horas estimadas: \")\n",
    "valor_hora = input(\"Digite o valor por hora trabalhada: \")\n",
    "prazo  = input(\"Digite o prazo estimado: \")"
   ]
  },
  {
   "cell_type": "code",
   "execution_count": 2,
   "id": "b4410e3c",
   "metadata": {},
   "outputs": [
    {
     "name": "stdout",
     "output_type": "stream",
     "text": [
      "22000\n"
     ]
    }
   ],
   "source": [
    "total = int(horas_estimadas)*int(valor_hora)\n",
    "print(total)\n",
    "\n"
   ]
  },
  {
   "cell_type": "markdown",
   "id": "8f3d8671",
   "metadata": {},
   "source": [
    "# Gerador de pdf \n"
   ]
  },
  {
   "cell_type": "code",
   "execution_count": 20,
   "id": "56ff99de",
   "metadata": {},
   "outputs": [
    {
     "name": "stdout",
     "output_type": "stream",
     "text": [
      "Collecting fpdf\n",
      "  Downloading fpdf-1.7.2.tar.gz (39 kB)\n",
      "  Preparing metadata (setup.py): started\n",
      "  Preparing metadata (setup.py): finished with status 'done'\n",
      "Building wheels for collected packages: fpdf\n",
      "  Building wheel for fpdf (setup.py): started\n",
      "  Building wheel for fpdf (setup.py): finished with status 'done'\n",
      "  Created wheel for fpdf: filename=fpdf-1.7.2-py2.py3-none-any.whl size=40713 sha256=a889d4931180bc3207a3ca5a1c8571c6d79634a00d376b18d31fcf5d1ac61b0c\n",
      "  Stored in directory: c:\\users\\lipin\\appdata\\local\\pip\\cache\\wheels\\bc\\6c\\e7\\c239668efef980927985e629d58674079552a9de5ec3aebfd8\n",
      "Successfully built fpdf\n",
      "Installing collected packages: fpdf\n",
      "Successfully installed fpdf-1.7.2\n"
     ]
    }
   ],
   "source": [
    "!pip install fpdf"
   ]
  },
  {
   "cell_type": "code",
   "execution_count": 3,
   "id": "c6429bea",
   "metadata": {},
   "outputs": [],
   "source": [
    "from fpdf import FPDF\n",
    "\n"
   ]
  },
  {
   "cell_type": "code",
   "execution_count": 7,
   "id": "79792333",
   "metadata": {},
   "outputs": [
    {
     "name": "stdout",
     "output_type": "stream",
     "text": [
      " Orçamento gerado com sucesso!\n"
     ]
    }
   ],
   "source": [
    "pdf = FPDF()\n",
    "pdf.add_page()\n",
    "pdf.set_font(\"Arial\")\n",
    "pdf.image(\"template.png\", x=0, y=0)\n",
    "pdf.text(115, 145, projeto)\n",
    "pdf.text(115, 160, horas_estimadas)\n",
    "pdf.text(115, 175, valor_hora)\n",
    "pdf.text(115, 190, prazo)\n",
    "pdf.text(115, 205, str(total))\n",
    "\n",
    "\n",
    "pdf.output(\"Orçamento.pdf\")\n",
    "print(\" Orçamento gerado com sucesso!\")\n"
   ]
  },
  {
   "cell_type": "code",
   "execution_count": null,
   "id": "98b2d1c2",
   "metadata": {},
   "outputs": [],
   "source": []
  }
 ],
 "metadata": {
  "kernelspec": {
   "display_name": "Python 3 (ipykernel)",
   "language": "python",
   "name": "python3"
  },
  "language_info": {
   "codemirror_mode": {
    "name": "ipython",
    "version": 3
   },
   "file_extension": ".py",
   "mimetype": "text/x-python",
   "name": "python",
   "nbconvert_exporter": "python",
   "pygments_lexer": "ipython3",
   "version": "3.10.9"
  }
 },
 "nbformat": 4,
 "nbformat_minor": 5
}
