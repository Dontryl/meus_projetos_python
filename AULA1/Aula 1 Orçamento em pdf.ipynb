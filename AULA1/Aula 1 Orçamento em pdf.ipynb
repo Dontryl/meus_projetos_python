
{
   "cell_type": "markdown",
   "id": "0add54e3",
   "metadata": {},
   "source": [
    "<h3 style=\"color: #2F666F\">Desenvolvendo as entradas de dados</h3>\n",
    "\n",
    "- Descrição do projeto\n",
    "- Total de horas estimadas\n",
    "- Valor da hora de trabalho\n",
    "- Prazo de entrega estimado"
   ]
  },
  {
   "cell_type": "code",
   "execution_count": 32,
   "id": "dbf2d19f",
   "metadata": {},
   "outputs": [
    {
     "name": "stdout",
     "output_type": "stream",
     "text": [
      "Digite a descrição do projeto: Desenvolvimento Python\n",
      "Digite o total de horas estimadas: 60\n",
      "Digite o valor da hora trabalhada: 120\n",
      "Digite o prazo estimado: 2 meses\n"
     ]
    }
   ],
   "source": [
    "projeto = input(\"Digite a descrição do projeto: \")\n",
    "horas_estimadas = input(\"Digite o total de horas estimadas: \")\n",
    "valor_hora = input(\"Digite o valor da hora trabalhada: \")\n",
    "prazo_estimado = input(\"Digite o prazo estimado: \")"
   ]
  },
  {
   "cell_type": "markdown",
   "id": "f8f7318b",
   "metadata": {},
   "source": [
    "<h3 style=\"color: #2F666F\">Criando o cálculo do valor total estimado</h3>\n",
    "\n",
    "- **Cálculo:** `valor total estimado = total de horas estimadadas x valor da hora de trabalho`"
   ]
  },
  {
   "cell_type": "code",
   "execution_count": 33,
   "id": "5742f5ef",
   "metadata": {},
   "outputs": [],
   "source": [
    "valor_total_estimado = int(horas_estimadas) * int(valor_hora)"
   ]
  },
  {
   "cell_type": "code",
   "execution_count": 34,
   "id": "7934201a",
   "metadata": {},
   "outputs": [
    {
     "name": "stdout",
     "output_type": "stream",
     "text": [
      "7200\n"
     ]
    }
   ],
   "source": [
    "print(valor_total_estimado)"
   ]
  },
  {
   "cell_type": "markdown",
   "id": "058e1c18",
   "metadata": {},
   "source": [
    "<h3 style=\"color: #2F666F\">Gerando o PDF com o orçamento</h3>"
   ]
  },
  {
   "cell_type": "markdown",
   "id": "31aafa15",
   "metadata": {},
   "source": [
    "<h4>Instalando a biblioteca</h4>"
   ]
  },
  {
   "cell_type": "code",
   "execution_count": null,
   "id": "f573ade9",
   "metadata": {},
   "outputs": [],
   "source": [
    "!pip install fpdf"
   ]
  },
  {
   "cell_type": "code",
   "execution_count": 35,
   "id": "1e3c8129",
   "metadata": {},
   "outputs": [],
   "source": [
    "# importando a biblioteca\n",
    "from fpdf import FPDF"
   ]
  },
  {
   "cell_type": "markdown",
   "id": "865a532c",
   "metadata": {},
   "source": [
    "<h4>Criando um arquivo PDF</h4>"
   ]
  },
  {
   "cell_type": "code",
   "execution_count": 36,
   "id": "ca83e985",
   "metadata": {},
   "outputs": [],
   "source": [
    "pdf = FPDF()\n",
    "pdf.add_page()\n",
    "pdf.set_font(\"Arial\")"
   ]
  },
  {
   "cell_type": "markdown",
   "id": "37ae1b1f",
   "metadata": {},
   "source": [
    "<h4>Inserindo os dados no PDF</h4>"
   ]
  },
  {
   "cell_type": "code",
   "execution_count": 37,
   "id": "3bfe7a1f",
   "metadata": {},
   "outputs": [],
   "source": [
    "# utilizando um template\n",
    "pdf.image(\"template.png\", x=0, y=0 )\n",
    "\n",
    "# inserindo os dados do projeto\n",
    "pdf.text(115, 145, projeto)\n",
    "pdf.text(115, 160, horas_estimadas)\n",
    "pdf.text(115, 175, valor_hora)\n",
    "pdf.text(115, 190, prazo_estimado)\n",
    "pdf.text(115, 205, str(valor_total_estimado))"
   ]
  },
  {
   "cell_type": "markdown",
   "id": "1ad01475",
   "metadata": {},
   "source": [
    "<h4>Salvando o arquivo</h4>"
   ]
  },
  {
   "cell_type": "code",
   "execution_count": 39,
   "id": "89a4beb4",
   "metadata": {},
   "outputs": [
    {
     "name": "stdout",
     "output_type": "stream",
     "text": [
      "Orçamento gerado com sucesso!\n"
     ]
    }
   ],
   "source": [
    "pdf.output(\"orçamento.pdf\")\n",
    "print(\"Orçamento gerado com sucesso!\")"
   ]
  },
